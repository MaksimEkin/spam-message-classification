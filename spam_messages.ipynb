{
 "cells": [
  {
   "cell_type": "markdown",
   "metadata": {},
   "source": [
    "# SMS Spam Messages Classification"
   ]
  },
  {
   "cell_type": "markdown",
   "metadata": {},
   "source": [
    "**Goal**: Classify Spam Messages. Compare Tfid with plain text results, Hash Vectorizer with n-Grams results where n=2, and Burrows Wheeler Transform Distance (BWTD) with plain text and n-gram results.<br>\n",
    "**Approach**:\n",
    "<ol>\n",
    "    <li>Supervised Learning task, because given labeled traning examples</li>\n",
    "    <li>Binary Classification task</li>\n",
    "    <li>Use plain text with Tfid</li>\n",
    "    <li>Use N-Grams with Hash Vectorizer</li>\n",
    "    <li>Use plain text with BWTD</li>\n",
    "    <li>Use N-Grams with BWTD</li>\n",
    "    <li>There is no continuous flow of data, no need to adjust to changing data, and the data is small enough to fit in memmory: Batch Learning</li>\n",
    "</ol>\n",
    "\n",
    "**Data:** [SMS Spam Collection Dataset | Kaggle](https://www.kaggle.com/uciml/sms-spam-collection-dataset)<br>\n",
    "**BWTD:** [Burrows Wheeler Transform Distance (BWTD) by Dr. Edward Raff](https://github.com/EdwardRaff/pyBWMD)<br><br>\n",
    "**Project Author:** Maksim Ekin Eren"
   ]
  },
  {
   "cell_type": "markdown",
   "metadata": {},
   "source": [
    "## Libraries Needed"
   ]
  },
  {
   "cell_type": "code",
   "execution_count": 1,
   "metadata": {},
   "outputs": [],
   "source": [
    "from sklearn.metrics import precision_score, recall_score\n",
    "from sklearn.metrics import accuracy_score\n",
    "from sklearn.metrics import f1_score"
   ]
  },
  {
   "cell_type": "code",
   "execution_count": 2,
   "metadata": {},
   "outputs": [],
   "source": [
    "from sklearn.model_selection import train_test_split\n",
    "from sklearn.model_selection import cross_val_score\n",
    "from sklearn.model_selection import cross_val_predict"
   ]
  },
  {
   "cell_type": "code",
   "execution_count": 3,
   "metadata": {},
   "outputs": [],
   "source": [
    "from sklearn.ensemble import RandomForestClassifier\n",
    "from sklearn.neighbors import KNeighborsClassifier\n",
    "from sklearn.manifold import TSNE"
   ]
  },
  {
   "cell_type": "code",
   "execution_count": 4,
   "metadata": {},
   "outputs": [],
   "source": [
    "from sklearn.feature_extraction.text import TfidfVectorizer\n",
    "from pyBWMD import vectorize\n",
    "from sklearn.feature_extraction.text import HashingVectorizer"
   ]
  },
  {
   "cell_type": "code",
   "execution_count": 5,
   "metadata": {},
   "outputs": [],
   "source": [
    "from matplotlib import pyplot as plt\n",
    "import pandas as pd\n",
    "import numpy as np"
   ]
  },
  {
   "cell_type": "code",
   "execution_count": 6,
   "metadata": {},
   "outputs": [],
   "source": [
    "import collections\n",
    "import re\n",
    "import os "
   ]
  },
  {
   "cell_type": "markdown",
   "metadata": {},
   "source": [
    "## Helper Functions for the Models"
   ]
  },
  {
   "cell_type": "code",
   "execution_count": 7,
   "metadata": {},
   "outputs": [],
   "source": [
    "# function to print out classification model report\n",
    "def classification_report(model_name, test, pred, label):    \n",
    "    print(model_name, \":\\n\")\n",
    "    print(\"Accuracy Score: \", '{:,.3f}'.format(float(accuracy_score(test, pred)) * 100), \"%\")\n",
    "    print(\"     Precision: \", '{:,.3f}'.format(float(precision_score(test, pred, pos_label=label)) * 100), \"%\")\n",
    "    print(\"        Recall: \", '{:,.3f}'.format(float(recall_score(test, pred, pos_label=label)) * 100), \"%\")\n",
    "    print(\"      F1 score: \", '{:,.3f}'.format(float(f1_score(test, pred, pos_label=label)) * 100), \"%\")"
   ]
  },
  {
   "cell_type": "markdown",
   "metadata": {},
   "source": [
    "## Load the Data"
   ]
  },
  {
   "cell_type": "code",
   "execution_count": 8,
   "metadata": {},
   "outputs": [
    {
     "data": {
      "text/html": [
       "<div>\n",
       "<style scoped>\n",
       "    .dataframe tbody tr th:only-of-type {\n",
       "        vertical-align: middle;\n",
       "    }\n",
       "\n",
       "    .dataframe tbody tr th {\n",
       "        vertical-align: top;\n",
       "    }\n",
       "\n",
       "    .dataframe thead th {\n",
       "        text-align: right;\n",
       "    }\n",
       "</style>\n",
       "<table border=\"1\" class=\"dataframe\">\n",
       "  <thead>\n",
       "    <tr style=\"text-align: right;\">\n",
       "      <th></th>\n",
       "      <th>v1</th>\n",
       "      <th>v2</th>\n",
       "      <th>Unnamed: 2</th>\n",
       "      <th>Unnamed: 3</th>\n",
       "      <th>Unnamed: 4</th>\n",
       "    </tr>\n",
       "  </thead>\n",
       "  <tbody>\n",
       "    <tr>\n",
       "      <td>0</td>\n",
       "      <td>ham</td>\n",
       "      <td>Go until jurong point, crazy.. Available only ...</td>\n",
       "      <td>NaN</td>\n",
       "      <td>NaN</td>\n",
       "      <td>NaN</td>\n",
       "    </tr>\n",
       "    <tr>\n",
       "      <td>1</td>\n",
       "      <td>ham</td>\n",
       "      <td>Ok lar... Joking wif u oni...</td>\n",
       "      <td>NaN</td>\n",
       "      <td>NaN</td>\n",
       "      <td>NaN</td>\n",
       "    </tr>\n",
       "    <tr>\n",
       "      <td>2</td>\n",
       "      <td>spam</td>\n",
       "      <td>Free entry in 2 a wkly comp to win FA Cup fina...</td>\n",
       "      <td>NaN</td>\n",
       "      <td>NaN</td>\n",
       "      <td>NaN</td>\n",
       "    </tr>\n",
       "    <tr>\n",
       "      <td>3</td>\n",
       "      <td>ham</td>\n",
       "      <td>U dun say so early hor... U c already then say...</td>\n",
       "      <td>NaN</td>\n",
       "      <td>NaN</td>\n",
       "      <td>NaN</td>\n",
       "    </tr>\n",
       "    <tr>\n",
       "      <td>4</td>\n",
       "      <td>ham</td>\n",
       "      <td>Nah I don't think he goes to usf, he lives aro...</td>\n",
       "      <td>NaN</td>\n",
       "      <td>NaN</td>\n",
       "      <td>NaN</td>\n",
       "    </tr>\n",
       "  </tbody>\n",
       "</table>\n",
       "</div>"
      ],
      "text/plain": [
       "     v1                                                 v2 Unnamed: 2  \\\n",
       "0   ham  Go until jurong point, crazy.. Available only ...        NaN   \n",
       "1   ham                      Ok lar... Joking wif u oni...        NaN   \n",
       "2  spam  Free entry in 2 a wkly comp to win FA Cup fina...        NaN   \n",
       "3   ham  U dun say so early hor... U c already then say...        NaN   \n",
       "4   ham  Nah I don't think he goes to usf, he lives aro...        NaN   \n",
       "\n",
       "  Unnamed: 3 Unnamed: 4  \n",
       "0        NaN        NaN  \n",
       "1        NaN        NaN  \n",
       "2        NaN        NaN  \n",
       "3        NaN        NaN  \n",
       "4        NaN        NaN  "
      ]
     },
     "execution_count": 8,
     "metadata": {},
     "output_type": "execute_result"
    }
   ],
   "source": [
    "# function to load the data\n",
    "def load_data(path, file):\n",
    "    csv_path = os.path.join(path, file)\n",
    "    return pd.read_csv(csv_path, low_memory=False, encoding = \"ISO-8859-1\")\n",
    "\n",
    "# load data\n",
    "data = load_data(\"data\", \"spam.csv\")\n",
    "\n",
    "# let's take a look at the top 5 instances\n",
    "data.head()"
   ]
  },
  {
   "cell_type": "code",
   "execution_count": 9,
   "metadata": {},
   "outputs": [
    {
     "name": "stdout",
     "output_type": "stream",
     "text": [
      "<class 'pandas.core.frame.DataFrame'>\n",
      "RangeIndex: 5572 entries, 0 to 5571\n",
      "Data columns (total 5 columns):\n",
      "v1            5572 non-null object\n",
      "v2            5572 non-null object\n",
      "Unnamed: 2    50 non-null object\n",
      "Unnamed: 3    12 non-null object\n",
      "Unnamed: 4    6 non-null object\n",
      "dtypes: object(5)\n",
      "memory usage: 217.8+ KB\n"
     ]
    }
   ],
   "source": [
    "data.info()"
   ]
  },
  {
   "cell_type": "markdown",
   "metadata": {},
   "source": [
    "## Data Pre-Processing\n",
    "Remove punctuation from each text:"
   ]
  },
  {
   "cell_type": "code",
   "execution_count": 10,
   "metadata": {},
   "outputs": [],
   "source": [
    "data['v2'] = data['v2'].apply(lambda x: re.sub('[^a-zA-z0-9\\s]','',x))"
   ]
  },
  {
   "cell_type": "markdown",
   "metadata": {},
   "source": [
    "Convert each text to lowercase:"
   ]
  },
  {
   "cell_type": "code",
   "execution_count": 11,
   "metadata": {},
   "outputs": [],
   "source": [
    "def lower_case(input_str):\n",
    "    input_str = input_str.lower()\n",
    "    return input_str\n",
    "\n",
    "data['v2'] = data['v2'].apply(lambda x: lower_case(x))"
   ]
  },
  {
   "cell_type": "code",
   "execution_count": 12,
   "metadata": {},
   "outputs": [
    {
     "data": {
      "text/html": [
       "<div>\n",
       "<style scoped>\n",
       "    .dataframe tbody tr th:only-of-type {\n",
       "        vertical-align: middle;\n",
       "    }\n",
       "\n",
       "    .dataframe tbody tr th {\n",
       "        vertical-align: top;\n",
       "    }\n",
       "\n",
       "    .dataframe thead th {\n",
       "        text-align: right;\n",
       "    }\n",
       "</style>\n",
       "<table border=\"1\" class=\"dataframe\">\n",
       "  <thead>\n",
       "    <tr style=\"text-align: right;\">\n",
       "      <th></th>\n",
       "      <th>v1</th>\n",
       "      <th>v2</th>\n",
       "      <th>Unnamed: 2</th>\n",
       "      <th>Unnamed: 3</th>\n",
       "      <th>Unnamed: 4</th>\n",
       "    </tr>\n",
       "  </thead>\n",
       "  <tbody>\n",
       "    <tr>\n",
       "      <td>0</td>\n",
       "      <td>ham</td>\n",
       "      <td>go until jurong point crazy available only in ...</td>\n",
       "      <td>NaN</td>\n",
       "      <td>NaN</td>\n",
       "      <td>NaN</td>\n",
       "    </tr>\n",
       "    <tr>\n",
       "      <td>1</td>\n",
       "      <td>ham</td>\n",
       "      <td>ok lar joking wif u oni</td>\n",
       "      <td>NaN</td>\n",
       "      <td>NaN</td>\n",
       "      <td>NaN</td>\n",
       "    </tr>\n",
       "    <tr>\n",
       "      <td>2</td>\n",
       "      <td>spam</td>\n",
       "      <td>free entry in 2 a wkly comp to win fa cup fina...</td>\n",
       "      <td>NaN</td>\n",
       "      <td>NaN</td>\n",
       "      <td>NaN</td>\n",
       "    </tr>\n",
       "  </tbody>\n",
       "</table>\n",
       "</div>"
      ],
      "text/plain": [
       "     v1                                                 v2 Unnamed: 2  \\\n",
       "0   ham  go until jurong point crazy available only in ...        NaN   \n",
       "1   ham                            ok lar joking wif u oni        NaN   \n",
       "2  spam  free entry in 2 a wkly comp to win fa cup fina...        NaN   \n",
       "\n",
       "  Unnamed: 3 Unnamed: 4  \n",
       "0        NaN        NaN  \n",
       "1        NaN        NaN  \n",
       "2        NaN        NaN  "
      ]
     },
     "execution_count": 12,
     "metadata": {},
     "output_type": "execute_result"
    }
   ],
   "source": [
    "data.head(3)"
   ]
  },
  {
   "cell_type": "markdown",
   "metadata": {},
   "source": [
    "## Separete Features from Labels"
   ]
  },
  {
   "cell_type": "code",
   "execution_count": 13,
   "metadata": {},
   "outputs": [],
   "source": [
    "text = data.drop([\"v1\", \"Unnamed: 2\", \"Unnamed: 3\", \"Unnamed: 4\"], axis=1)\n",
    "y = data[\"v1\"].values.copy()"
   ]
  },
  {
   "cell_type": "code",
   "execution_count": 14,
   "metadata": {},
   "outputs": [
    {
     "data": {
      "text/plain": [
       "'go until jurong point crazy available only in bugis n great world la e buffet cine there got amore wat'"
      ]
     },
     "execution_count": 14,
     "metadata": {},
     "output_type": "execute_result"
    }
   ],
   "source": [
    "text_arr = text.stack().tolist()\n",
    "text_arr[0]"
   ]
  },
  {
   "cell_type": "code",
   "execution_count": 15,
   "metadata": {},
   "outputs": [
    {
     "data": {
      "text/plain": [
       "5572"
      ]
     },
     "execution_count": 15,
     "metadata": {},
     "output_type": "execute_result"
    }
   ],
   "source": [
    "len(text_arr)"
   ]
  },
  {
   "cell_type": "code",
   "execution_count": 16,
   "metadata": {},
   "outputs": [
    {
     "data": {
      "text/plain": [
       "array([False, False,  True, ..., False, False, False])"
      ]
     },
     "execution_count": 16,
     "metadata": {},
     "output_type": "execute_result"
    }
   ],
   "source": [
    "y = (y == 'spam')\n",
    "y"
   ]
  },
  {
   "cell_type": "code",
   "execution_count": 17,
   "metadata": {},
   "outputs": [
    {
     "data": {
      "text/plain": [
       "5572"
      ]
     },
     "execution_count": 17,
     "metadata": {},
     "output_type": "execute_result"
    }
   ],
   "source": [
    "len(y)"
   ]
  },
  {
   "cell_type": "code",
   "execution_count": 18,
   "metadata": {},
   "outputs": [
    {
     "data": {
      "text/plain": [
       "<matplotlib.legend.Legend at 0x1a1a92dc50>"
      ]
     },
     "execution_count": 18,
     "metadata": {},
     "output_type": "execute_result"
    },
    {
     "data": {
      "image/png": "[encoded data removed]",
      "text/plain": [
       "<Figure size 432x288 with 1 Axes>"
      ]
     },
     "metadata": {},
     "output_type": "display_data"
    }
   ],
   "source": [
    "plt.pie(data['v1'].value_counts() )\n",
    "plt.legend(['Spam','Ham'])"
   ]
  },
  {
   "cell_type": "markdown",
   "metadata": {},
   "source": [
    "## Classify using Tfid and Plain Text\n",
    "### Separete Training and Test Set"
   ]
  },
  {
   "cell_type": "code",
   "execution_count": 19,
   "metadata": {},
   "outputs": [
    {
     "name": "stdout",
     "output_type": "stream",
     "text": [
      "X_train size: 4457\n",
      " X_test size: 1115 \n",
      "\n",
      "y_train size: 4457\n",
      " y_test size: 1115\n"
     ]
    }
   ],
   "source": [
    "# test set size of 20% of the data and the random seed 42 <3\n",
    "X_train, X_test, y_train, y_test = train_test_split(text_arr, y, test_size=0.2, random_state=42)\n",
    "\n",
    "print(\"X_train size:\", len(X_train))\n",
    "print(\" X_test size:\", len(X_test), \"\\n\")\n",
    "\n",
    "print(\"y_train size:\", len(y_train))\n",
    "print(\" y_test size:\", len(y_test))"
   ]
  },
  {
   "cell_type": "markdown",
   "metadata": {},
   "source": [
    "### Vectorize"
   ]
  },
  {
   "cell_type": "code",
   "execution_count": 20,
   "metadata": {},
   "outputs": [],
   "source": [
    "vectorizer = TfidfVectorizer()\n",
    "X_train_vec = vectorizer.fit_transform(X_train)\n",
    "X_test_vec = vectorizer.transform(X_test)"
   ]
  },
  {
   "cell_type": "code",
   "execution_count": 21,
   "metadata": {},
   "outputs": [
    {
     "data": {
      "text/plain": [
       "(4457, 8344)"
      ]
     },
     "execution_count": 21,
     "metadata": {},
     "output_type": "execute_result"
    }
   ],
   "source": [
    "X_train_vec.shape"
   ]
  },
  {
   "cell_type": "code",
   "execution_count": 22,
   "metadata": {},
   "outputs": [
    {
     "data": {
      "text/plain": [
       "(1115, 8344)"
      ]
     },
     "execution_count": 22,
     "metadata": {},
     "output_type": "execute_result"
    }
   ],
   "source": [
    "X_test_vec.shape"
   ]
  },
  {
   "cell_type": "markdown",
   "metadata": {},
   "source": [
    "### Random Forest"
   ]
  },
  {
   "cell_type": "code",
   "execution_count": 23,
   "metadata": {},
   "outputs": [
    {
     "name": "stdout",
     "output_type": "stream",
     "text": [
      "Accuracy:  97.218 %\n"
     ]
    }
   ],
   "source": [
    "# random forest classifier instance\n",
    "forest_clf = RandomForestClassifier(n_estimators=100, random_state=42, n_jobs=4)\n",
    "\n",
    "# cross validation on the training set \n",
    "forest_scores = cross_val_score(forest_clf, X_train_vec, y_train, cv=5, n_jobs=4)\n",
    "\n",
    "# print out the mean of the cross validation scores\n",
    "print(\"Accuracy: \", '{:,.3f}'.format(float(forest_scores.mean()) * 100), \"%\")"
   ]
  },
  {
   "cell_type": "code",
   "execution_count": 24,
   "metadata": {},
   "outputs": [
    {
     "name": "stdout",
     "output_type": "stream",
     "text": [
      "Precision:  100.000 %\n",
      "   Recall:  100.000 %\n"
     ]
    }
   ],
   "source": [
    "# cross validate predict on the training set\n",
    "forest_train_pred = cross_val_predict(forest_clf, X_train_vec, y_train, cv=5, n_jobs=4)\n",
    "\n",
    "# print precision and recall scores\n",
    "print(\"Precision: \", '{:,.3f}'.format(float(precision_score(y_train, forest_train_pred)) * 100), \"%\")\n",
    "print(\"   Recall: \", '{:,.3f}'.format(float(precision_score(y_train, forest_train_pred)) * 100), \"%\")"
   ]
  },
  {
   "cell_type": "code",
   "execution_count": 25,
   "metadata": {},
   "outputs": [
    {
     "name": "stdout",
     "output_type": "stream",
     "text": [
      "Random Forest Classifier Report (Test Set) :\n",
      "\n",
      "Accuracy Score:  97.130 %\n",
      "     Precision:  100.000 %\n",
      "        Recall:  78.667 %\n",
      "      F1 score:  88.060 %\n"
     ]
    }
   ],
   "source": [
    "# first train the model\n",
    "forest_clf.fit(X_train_vec, y_train)\n",
    "\n",
    "# make predictions on the test set\n",
    "forest_pred = forest_clf.predict(X_test_vec)\n",
    "\n",
    "# print out the classification report\n",
    "classification_report(\"Random Forest Classifier Report (Test Set)\", y_test, forest_pred, 1)"
   ]
  },
  {
   "cell_type": "markdown",
   "metadata": {},
   "source": [
    "## Classify Using N-Grams\n",
    "### Generate 2-Grams"
   ]
  },
  {
   "cell_type": "code",
   "execution_count": 26,
   "metadata": {},
   "outputs": [],
   "source": [
    "words = []\n",
    "for ii in range(0,len(text)):\n",
    "    words.append(str(text.iloc[ii]['v2']).split(\" \"))"
   ]
  },
  {
   "cell_type": "code",
   "execution_count": 27,
   "metadata": {},
   "outputs": [
    {
     "data": {
      "text/plain": [
       "['go',\n",
       " 'until',\n",
       " 'jurong',\n",
       " 'point',\n",
       " 'crazy',\n",
       " 'available',\n",
       " 'only',\n",
       " 'in',\n",
       " 'bugis',\n",
       " 'n',\n",
       " 'great',\n",
       " 'world',\n",
       " 'la',\n",
       " 'e',\n",
       " 'buffet',\n",
       " 'cine',\n",
       " 'there',\n",
       " 'got',\n",
       " 'amore',\n",
       " 'wat']"
      ]
     },
     "execution_count": 27,
     "metadata": {},
     "output_type": "execute_result"
    }
   ],
   "source": [
    "words[0]"
   ]
  },
  {
   "cell_type": "code",
   "execution_count": 28,
   "metadata": {},
   "outputs": [],
   "source": [
    "n_gram_all = []\n",
    "\n",
    "for word in words:\n",
    "    # get n-grams for the instance\n",
    "    n_gram = []\n",
    "    for i in range(len(word)-2+1):\n",
    "        n_gram.append(\"\".join(word[i:i+2]))\n",
    "    n_gram_all.append(n_gram)"
   ]
  },
  {
   "cell_type": "code",
   "execution_count": 29,
   "metadata": {},
   "outputs": [
    {
     "data": {
      "text/plain": [
       "['gountil',\n",
       " 'untiljurong',\n",
       " 'jurongpoint',\n",
       " 'pointcrazy',\n",
       " 'crazyavailable',\n",
       " 'availableonly',\n",
       " 'onlyin',\n",
       " 'inbugis',\n",
       " 'bugisn',\n",
       " 'ngreat',\n",
       " 'greatworld',\n",
       " 'worldla',\n",
       " 'lae',\n",
       " 'ebuffet',\n",
       " 'buffetcine',\n",
       " 'cinethere',\n",
       " 'theregot',\n",
       " 'gotamore',\n",
       " 'amorewat']"
      ]
     },
     "execution_count": 29,
     "metadata": {},
     "output_type": "execute_result"
    }
   ],
   "source": [
    "n_gram_all[0]"
   ]
  },
  {
   "cell_type": "markdown",
   "metadata": {},
   "source": [
    "### Separete Training and Test Set"
   ]
  },
  {
   "cell_type": "code",
   "execution_count": 30,
   "metadata": {},
   "outputs": [
    {
     "name": "stdout",
     "output_type": "stream",
     "text": [
      "X_train size: 4457\n",
      " X_test size: 1115 \n",
      "\n",
      "y_train size: 4457\n",
      " y_test size: 1115\n"
     ]
    }
   ],
   "source": [
    "# test set size of 20% of the data and the random seed 42 <3\n",
    "X_train, X_test, y_train, y_test = train_test_split(n_gram_all, y, test_size=0.2, random_state=42)\n",
    "\n",
    "print(\"X_train size:\", len(X_train))\n",
    "print(\" X_test size:\", len(X_test), \"\\n\")\n",
    "\n",
    "print(\"y_train size:\", len(y_train))\n",
    "print(\" y_test size:\", len(y_test))"
   ]
  },
  {
   "cell_type": "markdown",
   "metadata": {},
   "source": [
    "### Vectorize 2-Grams Using Hash Vectorizer"
   ]
  },
  {
   "cell_type": "code",
   "execution_count": 31,
   "metadata": {},
   "outputs": [],
   "source": [
    "hvec = HashingVectorizer(lowercase=False, analyzer=lambda l:l, n_features=2**13, stop_words='.')\n",
    "\n",
    "# fit transform into the hash vector\n",
    "X_train = hvec.fit_transform(X_train)\n",
    "X_test = hvec.transform(X_test)"
   ]
  },
  {
   "cell_type": "code",
   "execution_count": 32,
   "metadata": {},
   "outputs": [
    {
     "data": {
      "text/plain": [
       "(4457, 8192)"
      ]
     },
     "execution_count": 32,
     "metadata": {},
     "output_type": "execute_result"
    }
   ],
   "source": [
    "X_train.shape"
   ]
  },
  {
   "cell_type": "code",
   "execution_count": 33,
   "metadata": {},
   "outputs": [
    {
     "data": {
      "text/plain": [
       "(1115, 8192)"
      ]
     },
     "execution_count": 33,
     "metadata": {},
     "output_type": "execute_result"
    }
   ],
   "source": [
    "X_test.shape"
   ]
  },
  {
   "cell_type": "markdown",
   "metadata": {},
   "source": [
    "### Random Forest Using 2-Grams:"
   ]
  },
  {
   "cell_type": "code",
   "execution_count": 34,
   "metadata": {},
   "outputs": [
    {
     "name": "stdout",
     "output_type": "stream",
     "text": [
      "Accuracy:  95.288 %\n"
     ]
    }
   ],
   "source": [
    "# random forest classifier instance\n",
    "forest_clf = RandomForestClassifier(n_estimators=100, random_state=42, n_jobs=4)\n",
    "\n",
    "# cross validation on the training set \n",
    "forest_scores = cross_val_score(forest_clf, X_train, y_train, cv=5, n_jobs=4)\n",
    "\n",
    "# print out the mean of the cross validation scores\n",
    "print(\"Accuracy: \", '{:,.3f}'.format(float(forest_scores.mean()) * 100), \"%\")"
   ]
  },
  {
   "cell_type": "code",
   "execution_count": 35,
   "metadata": {},
   "outputs": [
    {
     "name": "stdout",
     "output_type": "stream",
     "text": [
      "Precision:  98.254 %\n",
      "   Recall:  98.254 %\n"
     ]
    }
   ],
   "source": [
    "# cross validate predict on the training set\n",
    "forest_train_pred = cross_val_predict(forest_clf, X_train, y_train, cv=5, n_jobs=4)\n",
    "\n",
    "# print precision and recall scores\n",
    "print(\"Precision: \", '{:,.3f}'.format(float(precision_score(y_train, forest_train_pred)) * 100), \"%\")\n",
    "print(\"   Recall: \", '{:,.3f}'.format(float(precision_score(y_train, forest_train_pred)) * 100), \"%\")"
   ]
  },
  {
   "cell_type": "code",
   "execution_count": 36,
   "metadata": {},
   "outputs": [
    {
     "name": "stdout",
     "output_type": "stream",
     "text": [
      "Random Forest Classifier Report (Test Set) :\n",
      "\n",
      "Accuracy Score:  95.874 %\n",
      "     Precision:  99.057 %\n",
      "        Recall:  70.000 %\n",
      "      F1 score:  82.031 %\n"
     ]
    }
   ],
   "source": [
    "# first train the model\n",
    "forest_clf.fit(X_train, y_train)\n",
    "\n",
    "# make predictions on the test set\n",
    "forest_pred = forest_clf.predict(X_test)\n",
    "\n",
    "# print out the classification report\n",
    "classification_report(\"Random Forest Classifier Report (Test Set)\", y_test, forest_pred, 1)"
   ]
  },
  {
   "cell_type": "markdown",
   "metadata": {},
   "source": [
    "## Classify Using Burrows Wheeler Transform Distance (BWTD)\n",
    "### Separete Training and Test Set"
   ]
  },
  {
   "cell_type": "code",
   "execution_count": 37,
   "metadata": {},
   "outputs": [
    {
     "name": "stdout",
     "output_type": "stream",
     "text": [
      "X_train size: 4457\n",
      " X_test size: 1115 \n",
      "\n",
      "y_train size: 4457\n",
      " y_test size: 1115\n"
     ]
    }
   ],
   "source": [
    "# test set size of 20% of the data and the random seed 42 <3\n",
    "X_train, X_test, y_train, y_test = train_test_split(text_arr, y, test_size=0.2, random_state=42)\n",
    "\n",
    "print(\"X_train size:\", len(X_train))\n",
    "print(\" X_test size:\", len(X_test), \"\\n\")\n",
    "\n",
    "print(\"y_train size:\", len(y_train))\n",
    "print(\" y_test size:\", len(y_test))"
   ]
  },
  {
   "cell_type": "markdown",
   "metadata": {},
   "source": [
    "### Vectorize"
   ]
  },
  {
   "cell_type": "code",
   "execution_count": 38,
   "metadata": {},
   "outputs": [],
   "source": [
    "X_train_vec = vectorize(X_train)\n",
    "X_test_vec = vectorize(X_test)"
   ]
  },
  {
   "cell_type": "code",
   "execution_count": 39,
   "metadata": {},
   "outputs": [
    {
     "data": {
      "text/plain": [
       "(4457, 65536)"
      ]
     },
     "execution_count": 39,
     "metadata": {},
     "output_type": "execute_result"
    }
   ],
   "source": [
    "X_train_vec.shape"
   ]
  },
  {
   "cell_type": "code",
   "execution_count": 40,
   "metadata": {},
   "outputs": [
    {
     "data": {
      "text/plain": [
       "(1115, 65536)"
      ]
     },
     "execution_count": 40,
     "metadata": {},
     "output_type": "execute_result"
    }
   ],
   "source": [
    "X_test_vec.shape"
   ]
  },
  {
   "cell_type": "markdown",
   "metadata": {},
   "source": [
    "### Random Forest Using BWTD"
   ]
  },
  {
   "cell_type": "code",
   "execution_count": 41,
   "metadata": {},
   "outputs": [
    {
     "name": "stdout",
     "output_type": "stream",
     "text": [
      "Accuracy:  96.545 %\n"
     ]
    }
   ],
   "source": [
    "# random forest classifier instance\n",
    "forest_clf = RandomForestClassifier(n_estimators=100, random_state=42, n_jobs=4)\n",
    "\n",
    "# cross validation on the training set \n",
    "forest_scores = cross_val_score(forest_clf, X_train_vec, y_train, cv=5, n_jobs=4)\n",
    "\n",
    "# print out the mean of the cross validation scores\n",
    "print(\"Accuracy: \", '{:,.3f}'.format(float(forest_scores.mean()) * 100), \"%\")"
   ]
  },
  {
   "cell_type": "code",
   "execution_count": 42,
   "metadata": {},
   "outputs": [
    {
     "name": "stdout",
     "output_type": "stream",
     "text": [
      "Precision:  99.332 %\n",
      "   Recall:  99.332 %\n"
     ]
    }
   ],
   "source": [
    "# cross validate predict on the training set\n",
    "forest_train_pred = cross_val_predict(forest_clf, X_train_vec, y_train, cv=5, n_jobs=4)\n",
    "\n",
    "# print precision and recall scores\n",
    "print(\"Precision: \", '{:,.3f}'.format(float(precision_score(y_train, forest_train_pred)) * 100), \"%\")\n",
    "print(\"   Recall: \", '{:,.3f}'.format(float(precision_score(y_train, forest_train_pred)) * 100), \"%\")"
   ]
  },
  {
   "cell_type": "code",
   "execution_count": 43,
   "metadata": {},
   "outputs": [
    {
     "name": "stdout",
     "output_type": "stream",
     "text": [
      "Random Forest Classifier Report (Test Set) :\n",
      "\n",
      "Accuracy Score:  96.771 %\n",
      "     Precision:  100.000 %\n",
      "        Recall:  76.000 %\n",
      "      F1 score:  86.364 %\n"
     ]
    }
   ],
   "source": [
    "# first train the model\n",
    "forest_clf.fit(X_train_vec, y_train)\n",
    "\n",
    "# make predictions on the test set\n",
    "forest_pred = forest_clf.predict(X_test_vec)\n",
    "\n",
    "# print out the classification report\n",
    "classification_report(\"Random Forest Classifier Report (Test Set)\", y_test, forest_pred, 1)"
   ]
  },
  {
   "cell_type": "markdown",
   "metadata": {},
   "source": [
    "## Classify Using BWTD With 2-Grams:\n",
    "### Separete Training and Test Set"
   ]
  },
  {
   "cell_type": "code",
   "execution_count": 44,
   "metadata": {},
   "outputs": [],
   "source": [
    "n_gram_all = [\" \".join(x) for x in n_gram_all]"
   ]
  },
  {
   "cell_type": "code",
   "execution_count": 45,
   "metadata": {},
   "outputs": [
    {
     "data": {
      "text/plain": [
       "'gountil untiljurong jurongpoint pointcrazy crazyavailable availableonly onlyin inbugis bugisn ngreat greatworld worldla lae ebuffet buffetcine cinethere theregot gotamore amorewat'"
      ]
     },
     "execution_count": 45,
     "metadata": {},
     "output_type": "execute_result"
    }
   ],
   "source": [
    "n_gram_all[0]"
   ]
  },
  {
   "cell_type": "code",
   "execution_count": 46,
   "metadata": {},
   "outputs": [
    {
     "name": "stdout",
     "output_type": "stream",
     "text": [
      "X_train size: 4457\n",
      " X_test size: 1115 \n",
      "\n",
      "y_train size: 4457\n",
      " y_test size: 1115\n"
     ]
    }
   ],
   "source": [
    "# test set size of 20% of the data and the random seed 42 <3\n",
    "X_train, X_test, y_train, y_test = train_test_split(n_gram_all, y, test_size=0.2, random_state=42)\n",
    "\n",
    "print(\"X_train size:\", len(X_train))\n",
    "print(\" X_test size:\", len(X_test), \"\\n\")\n",
    "\n",
    "print(\"y_train size:\", len(y_train))\n",
    "print(\" y_test size:\", len(y_test))"
   ]
  },
  {
   "cell_type": "markdown",
   "metadata": {},
   "source": [
    "### Vectorize"
   ]
  },
  {
   "cell_type": "code",
   "execution_count": 47,
   "metadata": {},
   "outputs": [],
   "source": [
    "X_train_vec = vectorize(X_train)\n",
    "X_test_vec = vectorize(X_test)"
   ]
  },
  {
   "cell_type": "markdown",
   "metadata": {},
   "source": [
    "### Random Forest Using BWTD and 2-Grams"
   ]
  },
  {
   "cell_type": "code",
   "execution_count": 51,
   "metadata": {},
   "outputs": [
    {
     "name": "stdout",
     "output_type": "stream",
     "text": [
      "Accuracy:  97.016 %\n"
     ]
    }
   ],
   "source": [
    "# random forest classifier instance\n",
    "forest_clf = RandomForestClassifier(n_estimators=100, random_state=42, n_jobs=4)\n",
    "\n",
    "# cross validation on the training set \n",
    "forest_scores = cross_val_score(forest_clf, X_train_vec, y_train, cv=5, n_jobs=4)\n",
    "\n",
    "# print out the mean of the cross validation scores\n",
    "print(\"Accuracy: \", '{:,.3f}'.format(float(forest_scores.mean()) * 100), \"%\")"
   ]
  },
  {
   "cell_type": "code",
   "execution_count": 52,
   "metadata": {},
   "outputs": [
    {
     "name": "stdout",
     "output_type": "stream",
     "text": [
      "Precision:  99.573 %\n",
      "   Recall:  99.573 %\n"
     ]
    }
   ],
   "source": [
    "# cross validate predict on the training set\n",
    "forest_train_pred = cross_val_predict(forest_clf, X_train_vec, y_train, cv=5, n_jobs=4)\n",
    "\n",
    "# print precision and recall scores\n",
    "print(\"Precision: \", '{:,.3f}'.format(float(precision_score(y_train, forest_train_pred)) * 100), \"%\")\n",
    "print(\"   Recall: \", '{:,.3f}'.format(float(precision_score(y_train, forest_train_pred)) * 100), \"%\")"
   ]
  },
  {
   "cell_type": "code",
   "execution_count": 53,
   "metadata": {},
   "outputs": [
    {
     "name": "stdout",
     "output_type": "stream",
     "text": [
      "Random Forest Classifier Report (Test Set) :\n",
      "\n",
      "Accuracy Score:  97.848 %\n",
      "     Precision:  99.219 %\n",
      "        Recall:  84.667 %\n",
      "      F1 score:  91.367 %\n"
     ]
    }
   ],
   "source": [
    "# first train the model\n",
    "forest_clf.fit(X_train_vec, y_train)\n",
    "\n",
    "# make predictions on the test set\n",
    "forest_pred = forest_clf.predict(X_test_vec)\n",
    "\n",
    "# print out the classification report\n",
    "classification_report(\"Random Forest Classifier Report (Test Set)\", y_test, forest_pred, 1)"
   ]
  }
 ],
 "metadata": {
  "kernelspec": {
   "display_name": "Python 3",
   "language": "python",
   "name": "python3"
  },
  "language_info": {
   "codemirror_mode": {
    "name": "ipython",
    "version": 3
   },
   "file_extension": ".py",
   "mimetype": "text/x-python",
   "name": "python",
   "nbconvert_exporter": "python",
   "pygments_lexer": "ipython3",
   "version": "3.7.4"
  }
 },
 "nbformat": 4,
 "nbformat_minor": 4
}
